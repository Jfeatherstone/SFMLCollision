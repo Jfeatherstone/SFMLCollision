{
 "cells": [
  {
   "cell_type": "code",
   "execution_count": 9,
   "metadata": {},
   "outputs": [
    {
     "name": "stdout",
     "output_type": "stream",
     "text": [
      "272.9952\n",
      "272.9952\n",
      "272.9952\n",
      "272.9952\n",
      "272.9952\n",
      "272.9952\n",
      "272.9952\n"
     ]
    },
    {
     "data": {
      "image/png": "[encoded data removed]",
      "text/plain": [
       "<Figure size 432x288 with 1 Axes>"
      ]
     },
     "metadata": {
      "needs_background": "light"
     },
     "output_type": "display_data"
    },
    {
     "data": {
      "image/png": "[encoded data removed]",
      "text/plain": [
       "<Figure size 432x288 with 1 Axes>"
      ]
     },
     "metadata": {
      "needs_background": "light"
     },
     "output_type": "display_data"
    }
   ],
   "source": [
    "import numpy as np\n",
    "import matplotlib.pyplot as plt\n",
    "\n",
    "values = np.array([50.1, 100.3, 504., 262.1, 4940., 1000., 50350.])\n",
    "dts = np.array([9.0e-3, 4.0e-3, .58e-3, 1.28e-3, 56.0e-6, .29e-3, 4.8e-6])\n",
    "ratios = np.array([1.98, 1.72, .63, 1.03, .09, .317, .008])\n",
    "\n",
    "\n",
    "def phi(f, dt):\n",
    "    return f * dt * 360\n",
    "\n",
    "phis = np.zeros(len(values))\n",
    "\n",
    "for i in range(len(values)):\n",
    "    phis[i] = 360 - phi(values[i], dts[i])\n",
    "    print(\"{}\".format(360 - value))\n",
    "    #print((ratios[i] - 2.04)/2.04 * 100)\n",
    "    \n",
    "    \n",
    "plt.plot(np.log10(values), ratios, 'o')\n",
    "\n",
    "plt.show()\n",
    "\n",
    "plt.plot(np.log10(values), phis, 'o')\n",
    "\n",
    "plt.show()"
   ]
  },
  {
   "cell_type": "code",
   "execution_count": null,
   "metadata": {},
   "outputs": [],
   "source": []
  }
 ],
 "metadata": {
  "kernelspec": {
   "display_name": "Python 3",
   "language": "python",
   "name": "python3"
  },
  "language_info": {
   "codemirror_mode": {
    "name": "ipython",
    "version": 3
   },
   "file_extension": ".py",
   "mimetype": "text/x-python",
   "name": "python",
   "nbconvert_exporter": "python",
   "pygments_lexer": "ipython3",
   "version": "3.7.1"
  }
 },
 "nbformat": 4,
 "nbformat_minor": 2
}
